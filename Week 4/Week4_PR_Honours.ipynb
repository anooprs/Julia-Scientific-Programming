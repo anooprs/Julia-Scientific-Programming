{
 "cells": [
  {
   "cell_type": "markdown",
   "metadata": {},
   "source": [
    "## Week 4 - working with data\n",
    "\n",
    "Week 4 Peer Review - Working with Distributions and DataFrames. To help you with this task, comments are added to each cell."
   ]
  },
  {
   "cell_type": "code",
   "execution_count": 4,
   "metadata": {},
   "outputs": [],
   "source": [
    "# Import the required packages\n",
    "using Distributions, DataFrames, Random"
   ]
  },
  {
   "cell_type": "code",
   "execution_count": 5,
   "metadata": {},
   "outputs": [
    {
     "data": {
      "text/plain": [
       "MersenneTwister(12345)"
      ]
     },
     "execution_count": 5,
     "metadata": {},
     "output_type": "execute_result"
    }
   ],
   "source": [
    "# Seed the random number generator\n",
    "MersenneTwister(12345)"
   ]
  },
  {
   "cell_type": "code",
   "execution_count": 6,
   "metadata": {},
   "outputs": [
    {
     "data": {
      "text/plain": [
       "30×3 Matrix{Float64}:\n",
       "  0.678715    9.2912   14.0\n",
       " -0.825589    8.69577  15.0\n",
       "  2.68458     8.04103  13.0\n",
       " -0.701147   13.9359   15.0\n",
       " -0.0468616  14.7578   11.0\n",
       "  0.225348   10.4725    8.0\n",
       "  1.77688     8.49893  12.0\n",
       " -1.57056    11.5365   15.0\n",
       "  0.168193    6.51048  10.0\n",
       "  0.506228   10.3549    8.0\n",
       "  1.57205    11.6947   13.0\n",
       " -0.819483   12.2101   10.0\n",
       "  0.612687    9.67893   8.0\n",
       "  ⋮                    \n",
       " -0.379549   10.6287    7.0\n",
       "  1.36882     7.0746   13.0\n",
       "  1.22538    10.3168    7.0\n",
       " -0.763592   10.1698    8.0\n",
       "  1.34296     9.03226  14.0\n",
       " -0.707299   14.1607    9.0\n",
       " -0.635208   11.6718    5.0\n",
       " -0.331317   10.0274    7.0\n",
       " -0.853068    9.92848   8.0\n",
       " -1.31328     9.36607   8.0\n",
       "  0.316562   11.5286    9.0\n",
       "  0.0396745   8.5033   10.0"
      ]
     },
     "execution_count": 6,
     "metadata": {},
     "output_type": "execute_result"
    }
   ],
   "source": [
    "# Question 1: Create the 3 x 30 array named array_1\n",
    "#array_1 = DataFrame(A = rand(Normal(0, 1), 30), B = rand(Normal(10, 2), 30), C = rand(5:15, 30));\n",
    "array_1 = [rand(Normal(0, 1), 30) rand(Normal(10, 2), 30) rand(5:15, 30)]"
   ]
  },
  {
   "cell_type": "code",
   "execution_count": 20,
   "metadata": {},
   "outputs": [
    {
     "name": "stdout",
     "output_type": "stream",
     "text": [
      "Column 1 mean: 0.14088710507248053 variance: 0.9844931964298332\n"
     ]
    }
   ],
   "source": [
    "# Question 2: Mean and variance of column 1\n",
    "println(\"Column 1 mean: \", mean(array_1[:,1]), \" variance: \", var(array_1[:,1]));"
   ]
  },
  {
   "cell_type": "code",
   "execution_count": 21,
   "metadata": {},
   "outputs": [
    {
     "name": "stdout",
     "output_type": "stream",
     "text": [
      "Column 2 mean: 10.162879348535686 variance: 4.395805268669746\n"
     ]
    }
   ],
   "source": [
    "# Question 3 (continued): Mean and variance of column 2\n",
    "println(\"Column 2 mean: \", mean(array_1[:,2]), \" variance: \", var(array_1[:,2]));"
   ]
  },
  {
   "cell_type": "code",
   "execution_count": 22,
   "metadata": {},
   "outputs": [
    {
     "name": "stdout",
     "output_type": "stream",
     "text": [
      "Column 3 mean: 9.8 variance: 9.131034482758624\n"
     ]
    }
   ],
   "source": [
    "# Question 3 (continued): Mean and variance of column 3\n",
    "println(\"Column 3 mean: \", mean(array_1[:,3]), \" variance: \", var(array_1[:,3]));"
   ]
  },
  {
   "cell_type": "code",
   "execution_count": 23,
   "metadata": {},
   "outputs": [
    {
     "data": {
      "text/html": [
       "<div class=\"data-frame\"><p>30 rows × 3 columns</p><table class=\"data-frame\"><thead><tr><th></th><th>x1</th><th>x2</th><th>x3</th></tr><tr><th></th><th title=\"Float64\">Float64</th><th title=\"Float64\">Float64</th><th title=\"Float64\">Float64</th></tr></thead><tbody><tr><th>1</th><td>0.678715</td><td>9.2912</td><td>14.0</td></tr><tr><th>2</th><td>-0.825589</td><td>8.69577</td><td>15.0</td></tr><tr><th>3</th><td>2.68458</td><td>8.04103</td><td>13.0</td></tr><tr><th>4</th><td>-0.701147</td><td>13.9359</td><td>15.0</td></tr><tr><th>5</th><td>-0.0468616</td><td>14.7578</td><td>11.0</td></tr><tr><th>6</th><td>0.225348</td><td>10.4725</td><td>8.0</td></tr><tr><th>7</th><td>1.77688</td><td>8.49893</td><td>12.0</td></tr><tr><th>8</th><td>-1.57056</td><td>11.5365</td><td>15.0</td></tr><tr><th>9</th><td>0.168193</td><td>6.51048</td><td>10.0</td></tr><tr><th>10</th><td>0.506228</td><td>10.3549</td><td>8.0</td></tr><tr><th>11</th><td>1.57205</td><td>11.6947</td><td>13.0</td></tr><tr><th>12</th><td>-0.819483</td><td>12.2101</td><td>10.0</td></tr><tr><th>13</th><td>0.612687</td><td>9.67893</td><td>8.0</td></tr><tr><th>14</th><td>0.441867</td><td>10.0346</td><td>8.0</td></tr><tr><th>15</th><td>0.199261</td><td>6.82963</td><td>8.0</td></tr><tr><th>16</th><td>0.861191</td><td>6.95186</td><td>10.0</td></tr><tr><th>17</th><td>-0.332837</td><td>11.1733</td><td>6.0</td></tr><tr><th>18</th><td>-0.513979</td><td>11.8098</td><td>5.0</td></tr><tr><th>19</th><td>-0.379549</td><td>10.6287</td><td>7.0</td></tr><tr><th>20</th><td>1.36882</td><td>7.0746</td><td>13.0</td></tr><tr><th>21</th><td>1.22538</td><td>10.3168</td><td>7.0</td></tr><tr><th>22</th><td>-0.763592</td><td>10.1698</td><td>8.0</td></tr><tr><th>23</th><td>1.34296</td><td>9.03226</td><td>14.0</td></tr><tr><th>24</th><td>-0.707299</td><td>14.1607</td><td>9.0</td></tr><tr><th>25</th><td>-0.635208</td><td>11.6718</td><td>5.0</td></tr><tr><th>26</th><td>-0.331317</td><td>10.0274</td><td>7.0</td></tr><tr><th>27</th><td>-0.853068</td><td>9.92848</td><td>8.0</td></tr><tr><th>28</th><td>-1.31328</td><td>9.36607</td><td>8.0</td></tr><tr><th>29</th><td>0.316562</td><td>11.5286</td><td>9.0</td></tr><tr><th>30</th><td>0.0396745</td><td>8.5033</td><td>10.0</td></tr></tbody></table></div>"
      ],
      "text/latex": [
       "\\begin{tabular}{r|ccc}\n",
       "\t& x1 & x2 & x3\\\\\n",
       "\t\\hline\n",
       "\t& Float64 & Float64 & Float64\\\\\n",
       "\t\\hline\n",
       "\t1 & 0.678715 & 9.2912 & 14.0 \\\\\n",
       "\t2 & -0.825589 & 8.69577 & 15.0 \\\\\n",
       "\t3 & 2.68458 & 8.04103 & 13.0 \\\\\n",
       "\t4 & -0.701147 & 13.9359 & 15.0 \\\\\n",
       "\t5 & -0.0468616 & 14.7578 & 11.0 \\\\\n",
       "\t6 & 0.225348 & 10.4725 & 8.0 \\\\\n",
       "\t7 & 1.77688 & 8.49893 & 12.0 \\\\\n",
       "\t8 & -1.57056 & 11.5365 & 15.0 \\\\\n",
       "\t9 & 0.168193 & 6.51048 & 10.0 \\\\\n",
       "\t10 & 0.506228 & 10.3549 & 8.0 \\\\\n",
       "\t11 & 1.57205 & 11.6947 & 13.0 \\\\\n",
       "\t12 & -0.819483 & 12.2101 & 10.0 \\\\\n",
       "\t13 & 0.612687 & 9.67893 & 8.0 \\\\\n",
       "\t14 & 0.441867 & 10.0346 & 8.0 \\\\\n",
       "\t15 & 0.199261 & 6.82963 & 8.0 \\\\\n",
       "\t16 & 0.861191 & 6.95186 & 10.0 \\\\\n",
       "\t17 & -0.332837 & 11.1733 & 6.0 \\\\\n",
       "\t18 & -0.513979 & 11.8098 & 5.0 \\\\\n",
       "\t19 & -0.379549 & 10.6287 & 7.0 \\\\\n",
       "\t20 & 1.36882 & 7.0746 & 13.0 \\\\\n",
       "\t21 & 1.22538 & 10.3168 & 7.0 \\\\\n",
       "\t22 & -0.763592 & 10.1698 & 8.0 \\\\\n",
       "\t23 & 1.34296 & 9.03226 & 14.0 \\\\\n",
       "\t24 & -0.707299 & 14.1607 & 9.0 \\\\\n",
       "\t25 & -0.635208 & 11.6718 & 5.0 \\\\\n",
       "\t26 & -0.331317 & 10.0274 & 7.0 \\\\\n",
       "\t27 & -0.853068 & 9.92848 & 8.0 \\\\\n",
       "\t28 & -1.31328 & 9.36607 & 8.0 \\\\\n",
       "\t29 & 0.316562 & 11.5286 & 9.0 \\\\\n",
       "\t30 & 0.0396745 & 8.5033 & 10.0 \\\\\n",
       "\\end{tabular}\n"
      ],
      "text/plain": [
       "\u001b[1m30×3 DataFrame\u001b[0m\n",
       "\u001b[1m Row \u001b[0m│\u001b[1m x1         \u001b[0m\u001b[1m x2       \u001b[0m\u001b[1m x3      \u001b[0m\n",
       "\u001b[1m     \u001b[0m│\u001b[90m Float64    \u001b[0m\u001b[90m Float64  \u001b[0m\u001b[90m Float64 \u001b[0m\n",
       "─────┼───────────────────────────────\n",
       "   1 │  0.678715    9.2912      14.0\n",
       "   2 │ -0.825589    8.69577     15.0\n",
       "   3 │  2.68458     8.04103     13.0\n",
       "   4 │ -0.701147   13.9359      15.0\n",
       "   5 │ -0.0468616  14.7578      11.0\n",
       "   6 │  0.225348   10.4725       8.0\n",
       "   7 │  1.77688     8.49893     12.0\n",
       "   8 │ -1.57056    11.5365      15.0\n",
       "   9 │  0.168193    6.51048     10.0\n",
       "  10 │  0.506228   10.3549       8.0\n",
       "  11 │  1.57205    11.6947      13.0\n",
       "  ⋮  │     ⋮          ⋮         ⋮\n",
       "  21 │  1.22538    10.3168       7.0\n",
       "  22 │ -0.763592   10.1698       8.0\n",
       "  23 │  1.34296     9.03226     14.0\n",
       "  24 │ -0.707299   14.1607       9.0\n",
       "  25 │ -0.635208   11.6718       5.0\n",
       "  26 │ -0.331317   10.0274       7.0\n",
       "  27 │ -0.853068    9.92848      8.0\n",
       "  28 │ -1.31328     9.36607      8.0\n",
       "  29 │  0.316562   11.5286       9.0\n",
       "  30 │  0.0396745   8.5033      10.0\n",
       "\u001b[36m                       9 rows omitted\u001b[0m"
      ]
     },
     "execution_count": 23,
     "metadata": {},
     "output_type": "execute_result"
    }
   ],
   "source": [
    "# Question 4: Import array_1 into a DataFrame named df\n",
    "df = DataFrame(array_1, :auto)"
   ]
  },
  {
   "cell_type": "code",
   "execution_count": 24,
   "metadata": {},
   "outputs": [
    {
     "data": {
      "text/html": [
       "<div class=\"data-frame\"><p>30 rows × 3 columns</p><table class=\"data-frame\"><thead><tr><th></th><th>Var1</th><th>Var2</th><th>Var3</th></tr><tr><th></th><th title=\"Float64\">Float64</th><th title=\"Float64\">Float64</th><th title=\"Float64\">Float64</th></tr></thead><tbody><tr><th>1</th><td>0.678715</td><td>9.2912</td><td>14.0</td></tr><tr><th>2</th><td>-0.825589</td><td>8.69577</td><td>15.0</td></tr><tr><th>3</th><td>2.68458</td><td>8.04103</td><td>13.0</td></tr><tr><th>4</th><td>-0.701147</td><td>13.9359</td><td>15.0</td></tr><tr><th>5</th><td>-0.0468616</td><td>14.7578</td><td>11.0</td></tr><tr><th>6</th><td>0.225348</td><td>10.4725</td><td>8.0</td></tr><tr><th>7</th><td>1.77688</td><td>8.49893</td><td>12.0</td></tr><tr><th>8</th><td>-1.57056</td><td>11.5365</td><td>15.0</td></tr><tr><th>9</th><td>0.168193</td><td>6.51048</td><td>10.0</td></tr><tr><th>10</th><td>0.506228</td><td>10.3549</td><td>8.0</td></tr><tr><th>11</th><td>1.57205</td><td>11.6947</td><td>13.0</td></tr><tr><th>12</th><td>-0.819483</td><td>12.2101</td><td>10.0</td></tr><tr><th>13</th><td>0.612687</td><td>9.67893</td><td>8.0</td></tr><tr><th>14</th><td>0.441867</td><td>10.0346</td><td>8.0</td></tr><tr><th>15</th><td>0.199261</td><td>6.82963</td><td>8.0</td></tr><tr><th>16</th><td>0.861191</td><td>6.95186</td><td>10.0</td></tr><tr><th>17</th><td>-0.332837</td><td>11.1733</td><td>6.0</td></tr><tr><th>18</th><td>-0.513979</td><td>11.8098</td><td>5.0</td></tr><tr><th>19</th><td>-0.379549</td><td>10.6287</td><td>7.0</td></tr><tr><th>20</th><td>1.36882</td><td>7.0746</td><td>13.0</td></tr><tr><th>21</th><td>1.22538</td><td>10.3168</td><td>7.0</td></tr><tr><th>22</th><td>-0.763592</td><td>10.1698</td><td>8.0</td></tr><tr><th>23</th><td>1.34296</td><td>9.03226</td><td>14.0</td></tr><tr><th>24</th><td>-0.707299</td><td>14.1607</td><td>9.0</td></tr><tr><th>25</th><td>-0.635208</td><td>11.6718</td><td>5.0</td></tr><tr><th>26</th><td>-0.331317</td><td>10.0274</td><td>7.0</td></tr><tr><th>27</th><td>-0.853068</td><td>9.92848</td><td>8.0</td></tr><tr><th>28</th><td>-1.31328</td><td>9.36607</td><td>8.0</td></tr><tr><th>29</th><td>0.316562</td><td>11.5286</td><td>9.0</td></tr><tr><th>30</th><td>0.0396745</td><td>8.5033</td><td>10.0</td></tr></tbody></table></div>"
      ],
      "text/latex": [
       "\\begin{tabular}{r|ccc}\n",
       "\t& Var1 & Var2 & Var3\\\\\n",
       "\t\\hline\n",
       "\t& Float64 & Float64 & Float64\\\\\n",
       "\t\\hline\n",
       "\t1 & 0.678715 & 9.2912 & 14.0 \\\\\n",
       "\t2 & -0.825589 & 8.69577 & 15.0 \\\\\n",
       "\t3 & 2.68458 & 8.04103 & 13.0 \\\\\n",
       "\t4 & -0.701147 & 13.9359 & 15.0 \\\\\n",
       "\t5 & -0.0468616 & 14.7578 & 11.0 \\\\\n",
       "\t6 & 0.225348 & 10.4725 & 8.0 \\\\\n",
       "\t7 & 1.77688 & 8.49893 & 12.0 \\\\\n",
       "\t8 & -1.57056 & 11.5365 & 15.0 \\\\\n",
       "\t9 & 0.168193 & 6.51048 & 10.0 \\\\\n",
       "\t10 & 0.506228 & 10.3549 & 8.0 \\\\\n",
       "\t11 & 1.57205 & 11.6947 & 13.0 \\\\\n",
       "\t12 & -0.819483 & 12.2101 & 10.0 \\\\\n",
       "\t13 & 0.612687 & 9.67893 & 8.0 \\\\\n",
       "\t14 & 0.441867 & 10.0346 & 8.0 \\\\\n",
       "\t15 & 0.199261 & 6.82963 & 8.0 \\\\\n",
       "\t16 & 0.861191 & 6.95186 & 10.0 \\\\\n",
       "\t17 & -0.332837 & 11.1733 & 6.0 \\\\\n",
       "\t18 & -0.513979 & 11.8098 & 5.0 \\\\\n",
       "\t19 & -0.379549 & 10.6287 & 7.0 \\\\\n",
       "\t20 & 1.36882 & 7.0746 & 13.0 \\\\\n",
       "\t21 & 1.22538 & 10.3168 & 7.0 \\\\\n",
       "\t22 & -0.763592 & 10.1698 & 8.0 \\\\\n",
       "\t23 & 1.34296 & 9.03226 & 14.0 \\\\\n",
       "\t24 & -0.707299 & 14.1607 & 9.0 \\\\\n",
       "\t25 & -0.635208 & 11.6718 & 5.0 \\\\\n",
       "\t26 & -0.331317 & 10.0274 & 7.0 \\\\\n",
       "\t27 & -0.853068 & 9.92848 & 8.0 \\\\\n",
       "\t28 & -1.31328 & 9.36607 & 8.0 \\\\\n",
       "\t29 & 0.316562 & 11.5286 & 9.0 \\\\\n",
       "\t30 & 0.0396745 & 8.5033 & 10.0 \\\\\n",
       "\\end{tabular}\n"
      ],
      "text/plain": [
       "\u001b[1m30×3 DataFrame\u001b[0m\n",
       "\u001b[1m Row \u001b[0m│\u001b[1m Var1       \u001b[0m\u001b[1m Var2     \u001b[0m\u001b[1m Var3    \u001b[0m\n",
       "\u001b[1m     \u001b[0m│\u001b[90m Float64    \u001b[0m\u001b[90m Float64  \u001b[0m\u001b[90m Float64 \u001b[0m\n",
       "─────┼───────────────────────────────\n",
       "   1 │  0.678715    9.2912      14.0\n",
       "   2 │ -0.825589    8.69577     15.0\n",
       "   3 │  2.68458     8.04103     13.0\n",
       "   4 │ -0.701147   13.9359      15.0\n",
       "   5 │ -0.0468616  14.7578      11.0\n",
       "   6 │  0.225348   10.4725       8.0\n",
       "   7 │  1.77688     8.49893     12.0\n",
       "   8 │ -1.57056    11.5365      15.0\n",
       "   9 │  0.168193    6.51048     10.0\n",
       "  10 │  0.506228   10.3549       8.0\n",
       "  11 │  1.57205    11.6947      13.0\n",
       "  ⋮  │     ⋮          ⋮         ⋮\n",
       "  21 │  1.22538    10.3168       7.0\n",
       "  22 │ -0.763592   10.1698       8.0\n",
       "  23 │  1.34296     9.03226     14.0\n",
       "  24 │ -0.707299   14.1607       9.0\n",
       "  25 │ -0.635208   11.6718       5.0\n",
       "  26 │ -0.331317   10.0274       7.0\n",
       "  27 │ -0.853068    9.92848      8.0\n",
       "  28 │ -1.31328     9.36607      8.0\n",
       "  29 │  0.316562   11.5286       9.0\n",
       "  30 │  0.0396745   8.5033      10.0\n",
       "\u001b[36m                       9 rows omitted\u001b[0m"
      ]
     },
     "execution_count": 24,
     "metadata": {},
     "output_type": "execute_result"
    }
   ],
   "source": [
    "# Question 5: Change the names of the columns to Var1, Var2, and Var3\n",
    "rename!(df, Dict(:x1 => :Var1, :x2 => :Var2, :x3 => :Var3))"
   ]
  },
  {
   "cell_type": "code",
   "execution_count": 25,
   "metadata": {},
   "outputs": [
    {
     "data": {
      "text/html": [
       "<div class=\"data-frame\"><p>20 rows × 3 columns</p><table class=\"data-frame\"><thead><tr><th></th><th>Var1</th><th>Var2</th><th>Var3</th></tr><tr><th></th><th title=\"Float64\">Float64</th><th title=\"Float64\">Float64</th><th title=\"Float64\">Float64</th></tr></thead><tbody><tr><th>1</th><td>1.57205</td><td>11.6947</td><td>13.0</td></tr><tr><th>2</th><td>-0.819483</td><td>12.2101</td><td>10.0</td></tr><tr><th>3</th><td>0.612687</td><td>9.67893</td><td>8.0</td></tr><tr><th>4</th><td>0.441867</td><td>10.0346</td><td>8.0</td></tr><tr><th>5</th><td>0.199261</td><td>6.82963</td><td>8.0</td></tr><tr><th>6</th><td>0.861191</td><td>6.95186</td><td>10.0</td></tr><tr><th>7</th><td>-0.332837</td><td>11.1733</td><td>6.0</td></tr><tr><th>8</th><td>-0.513979</td><td>11.8098</td><td>5.0</td></tr><tr><th>9</th><td>-0.379549</td><td>10.6287</td><td>7.0</td></tr><tr><th>10</th><td>1.36882</td><td>7.0746</td><td>13.0</td></tr><tr><th>11</th><td>1.22538</td><td>10.3168</td><td>7.0</td></tr><tr><th>12</th><td>-0.763592</td><td>10.1698</td><td>8.0</td></tr><tr><th>13</th><td>1.34296</td><td>9.03226</td><td>14.0</td></tr><tr><th>14</th><td>-0.707299</td><td>14.1607</td><td>9.0</td></tr><tr><th>15</th><td>-0.635208</td><td>11.6718</td><td>5.0</td></tr><tr><th>16</th><td>-0.331317</td><td>10.0274</td><td>7.0</td></tr><tr><th>17</th><td>-0.853068</td><td>9.92848</td><td>8.0</td></tr><tr><th>18</th><td>-1.31328</td><td>9.36607</td><td>8.0</td></tr><tr><th>19</th><td>0.316562</td><td>11.5286</td><td>9.0</td></tr><tr><th>20</th><td>0.0396745</td><td>8.5033</td><td>10.0</td></tr></tbody></table></div>"
      ],
      "text/latex": [
       "\\begin{tabular}{r|ccc}\n",
       "\t& Var1 & Var2 & Var3\\\\\n",
       "\t\\hline\n",
       "\t& Float64 & Float64 & Float64\\\\\n",
       "\t\\hline\n",
       "\t1 & 1.57205 & 11.6947 & 13.0 \\\\\n",
       "\t2 & -0.819483 & 12.2101 & 10.0 \\\\\n",
       "\t3 & 0.612687 & 9.67893 & 8.0 \\\\\n",
       "\t4 & 0.441867 & 10.0346 & 8.0 \\\\\n",
       "\t5 & 0.199261 & 6.82963 & 8.0 \\\\\n",
       "\t6 & 0.861191 & 6.95186 & 10.0 \\\\\n",
       "\t7 & -0.332837 & 11.1733 & 6.0 \\\\\n",
       "\t8 & -0.513979 & 11.8098 & 5.0 \\\\\n",
       "\t9 & -0.379549 & 10.6287 & 7.0 \\\\\n",
       "\t10 & 1.36882 & 7.0746 & 13.0 \\\\\n",
       "\t11 & 1.22538 & 10.3168 & 7.0 \\\\\n",
       "\t12 & -0.763592 & 10.1698 & 8.0 \\\\\n",
       "\t13 & 1.34296 & 9.03226 & 14.0 \\\\\n",
       "\t14 & -0.707299 & 14.1607 & 9.0 \\\\\n",
       "\t15 & -0.635208 & 11.6718 & 5.0 \\\\\n",
       "\t16 & -0.331317 & 10.0274 & 7.0 \\\\\n",
       "\t17 & -0.853068 & 9.92848 & 8.0 \\\\\n",
       "\t18 & -1.31328 & 9.36607 & 8.0 \\\\\n",
       "\t19 & 0.316562 & 11.5286 & 9.0 \\\\\n",
       "\t20 & 0.0396745 & 8.5033 & 10.0 \\\\\n",
       "\\end{tabular}\n"
      ],
      "text/plain": [
       "\u001b[1m20×3 DataFrame\u001b[0m\n",
       "\u001b[1m Row \u001b[0m│\u001b[1m Var1       \u001b[0m\u001b[1m Var2     \u001b[0m\u001b[1m Var3    \u001b[0m\n",
       "\u001b[1m     \u001b[0m│\u001b[90m Float64    \u001b[0m\u001b[90m Float64  \u001b[0m\u001b[90m Float64 \u001b[0m\n",
       "─────┼───────────────────────────────\n",
       "   1 │  1.57205    11.6947      13.0\n",
       "   2 │ -0.819483   12.2101      10.0\n",
       "   3 │  0.612687    9.67893      8.0\n",
       "   4 │  0.441867   10.0346       8.0\n",
       "   5 │  0.199261    6.82963      8.0\n",
       "   6 │  0.861191    6.95186     10.0\n",
       "   7 │ -0.332837   11.1733       6.0\n",
       "   8 │ -0.513979   11.8098       5.0\n",
       "   9 │ -0.379549   10.6287       7.0\n",
       "  10 │  1.36882     7.0746      13.0\n",
       "  11 │  1.22538    10.3168       7.0\n",
       "  12 │ -0.763592   10.1698       8.0\n",
       "  13 │  1.34296     9.03226     14.0\n",
       "  14 │ -0.707299   14.1607       9.0\n",
       "  15 │ -0.635208   11.6718       5.0\n",
       "  16 │ -0.331317   10.0274       7.0\n",
       "  17 │ -0.853068    9.92848      8.0\n",
       "  18 │ -1.31328     9.36607      8.0\n",
       "  19 │  0.316562   11.5286       9.0\n",
       "  20 │  0.0396745   8.5033      10.0"
      ]
     },
     "execution_count": 25,
     "metadata": {},
     "output_type": "execute_result"
    }
   ],
   "source": [
    "# Question 6: Create and new DataFrame named df2 from the last 20 rows of df\n",
    "df2 = df[11:30, :]"
   ]
  },
  {
   "cell_type": "code",
   "execution_count": 26,
   "metadata": {},
   "outputs": [
    {
     "data": {
      "text/html": [
       "<div class=\"data-frame\"><p>3 rows × 7 columns</p><table class=\"data-frame\"><thead><tr><th></th><th>variable</th><th>mean</th><th>min</th><th>median</th><th>max</th><th>nmissing</th><th>eltype</th></tr><tr><th></th><th title=\"Symbol\">Symbol</th><th title=\"Float64\">Float64</th><th title=\"Float64\">Float64</th><th title=\"Float64\">Float64</th><th title=\"Float64\">Float64</th><th title=\"Int64\">Int64</th><th title=\"DataType\">DataType</th></tr></thead><tbody><tr><th>1</th><td>Var1</td><td>0.0665419</td><td>-1.31328</td><td>-0.145821</td><td>1.57205</td><td>0</td><td>Float64</td></tr><tr><th>2</th><td>Var2</td><td>10.1396</td><td>6.82963</td><td>10.1022</td><td>14.1607</td><td>0</td><td>Float64</td></tr><tr><th>3</th><td>Var3</td><td>8.65</td><td>5.0</td><td>8.0</td><td>14.0</td><td>0</td><td>Float64</td></tr></tbody></table></div>"
      ],
      "text/latex": [
       "\\begin{tabular}{r|ccccccc}\n",
       "\t& variable & mean & min & median & max & nmissing & eltype\\\\\n",
       "\t\\hline\n",
       "\t& Symbol & Float64 & Float64 & Float64 & Float64 & Int64 & DataType\\\\\n",
       "\t\\hline\n",
       "\t1 & Var1 & 0.0665419 & -1.31328 & -0.145821 & 1.57205 & 0 & Float64 \\\\\n",
       "\t2 & Var2 & 10.1396 & 6.82963 & 10.1022 & 14.1607 & 0 & Float64 \\\\\n",
       "\t3 & Var3 & 8.65 & 5.0 & 8.0 & 14.0 & 0 & Float64 \\\\\n",
       "\\end{tabular}\n"
      ],
      "text/plain": [
       "\u001b[1m3×7 DataFrame\u001b[0m\n",
       "\u001b[1m Row \u001b[0m│\u001b[1m variable \u001b[0m\u001b[1m mean       \u001b[0m\u001b[1m min      \u001b[0m\u001b[1m median    \u001b[0m\u001b[1m max      \u001b[0m\u001b[1m nmissing \u001b[0m\u001b[1m eltype  \u001b[0m ⋯\n",
       "\u001b[1m     \u001b[0m│\u001b[90m Symbol   \u001b[0m\u001b[90m Float64    \u001b[0m\u001b[90m Float64  \u001b[0m\u001b[90m Float64   \u001b[0m\u001b[90m Float64  \u001b[0m\u001b[90m Int64    \u001b[0m\u001b[90m DataType\u001b[0m ⋯\n",
       "─────┼──────────────────────────────────────────────────────────────────────────\n",
       "   1 │ Var1       0.0665419  -1.31328  -0.145821   1.57205         0  Float64  ⋯\n",
       "   2 │ Var2      10.1396      6.82963  10.1022    14.1607          0  Float64\n",
       "   3 │ Var3       8.65        5.0       8.0       14.0             0  Float64"
      ]
     },
     "execution_count": 26,
     "metadata": {},
     "output_type": "execute_result"
    }
   ],
   "source": [
    "# Question 7: Calculate simple descriptive statistics of all the columns in df2 using the describe() function\n",
    "describe(df2)"
   ]
  },
  {
   "cell_type": "code",
   "execution_count": 27,
   "metadata": {},
   "outputs": [
    {
     "data": {
      "text/plain": [
       "20-element Vector{String}:\n",
       " \"GroupB\"\n",
       " \"GroupB\"\n",
       " \"GroupA\"\n",
       " \"GroupA\"\n",
       " \"GroupB\"\n",
       " \"GroupB\"\n",
       " \"GroupA\"\n",
       " \"GroupB\"\n",
       " \"GroupA\"\n",
       " \"GroupB\"\n",
       " \"GroupB\"\n",
       " \"GroupA\"\n",
       " \"GroupA\"\n",
       " \"GroupA\"\n",
       " \"GroupB\"\n",
       " \"GroupB\"\n",
       " \"GroupA\"\n",
       " \"GroupA\"\n",
       " \"GroupA\"\n",
       " \"GroupA\""
      ]
     },
     "execution_count": 27,
     "metadata": {},
     "output_type": "execute_result"
    }
   ],
   "source": [
    "# Question 8: Add a column to df2 named Cat1 to df2 consisting of randomly selecting either the strings GroupA or GroupB\n",
    "df2[!,:Cat1] = rand([\"GroupA\", \"GroupB\"], 20)"
   ]
  },
  {
   "cell_type": "code",
   "execution_count": 28,
   "metadata": {},
   "outputs": [
    {
     "data": {
      "text/html": [
       "<div class=\"data-frame\"><p>20 rows × 3 columns</p><table class=\"data-frame\"><thead><tr><th></th><th>A</th><th>B</th><th>C</th></tr><tr><th></th><th title=\"Int64\">Int64</th><th title=\"Int64\">Int64</th><th title=\"Int64\">Int64</th></tr></thead><tbody><tr><th>1</th><td>1</td><td>21</td><td>41</td></tr><tr><th>2</th><td>2</td><td>22</td><td>42</td></tr><tr><th>3</th><td>3</td><td>23</td><td>43</td></tr><tr><th>4</th><td>4</td><td>24</td><td>44</td></tr><tr><th>5</th><td>5</td><td>25</td><td>45</td></tr><tr><th>6</th><td>6</td><td>26</td><td>46</td></tr><tr><th>7</th><td>7</td><td>27</td><td>47</td></tr><tr><th>8</th><td>8</td><td>28</td><td>48</td></tr><tr><th>9</th><td>9</td><td>29</td><td>49</td></tr><tr><th>10</th><td>10</td><td>30</td><td>50</td></tr><tr><th>11</th><td>11</td><td>31</td><td>51</td></tr><tr><th>12</th><td>12</td><td>32</td><td>52</td></tr><tr><th>13</th><td>13</td><td>33</td><td>53</td></tr><tr><th>14</th><td>14</td><td>34</td><td>54</td></tr><tr><th>15</th><td>15</td><td>35</td><td>55</td></tr><tr><th>16</th><td>16</td><td>36</td><td>56</td></tr><tr><th>17</th><td>17</td><td>37</td><td>57</td></tr><tr><th>18</th><td>18</td><td>38</td><td>58</td></tr><tr><th>19</th><td>19</td><td>39</td><td>59</td></tr><tr><th>20</th><td>20</td><td>40</td><td>60</td></tr></tbody></table></div>"
      ],
      "text/latex": [
       "\\begin{tabular}{r|ccc}\n",
       "\t& A & B & C\\\\\n",
       "\t\\hline\n",
       "\t& Int64 & Int64 & Int64\\\\\n",
       "\t\\hline\n",
       "\t1 & 1 & 21 & 41 \\\\\n",
       "\t2 & 2 & 22 & 42 \\\\\n",
       "\t3 & 3 & 23 & 43 \\\\\n",
       "\t4 & 4 & 24 & 44 \\\\\n",
       "\t5 & 5 & 25 & 45 \\\\\n",
       "\t6 & 6 & 26 & 46 \\\\\n",
       "\t7 & 7 & 27 & 47 \\\\\n",
       "\t8 & 8 & 28 & 48 \\\\\n",
       "\t9 & 9 & 29 & 49 \\\\\n",
       "\t10 & 10 & 30 & 50 \\\\\n",
       "\t11 & 11 & 31 & 51 \\\\\n",
       "\t12 & 12 & 32 & 52 \\\\\n",
       "\t13 & 13 & 33 & 53 \\\\\n",
       "\t14 & 14 & 34 & 54 \\\\\n",
       "\t15 & 15 & 35 & 55 \\\\\n",
       "\t16 & 16 & 36 & 56 \\\\\n",
       "\t17 & 17 & 37 & 57 \\\\\n",
       "\t18 & 18 & 38 & 58 \\\\\n",
       "\t19 & 19 & 39 & 59 \\\\\n",
       "\t20 & 20 & 40 & 60 \\\\\n",
       "\\end{tabular}\n"
      ],
      "text/plain": [
       "\u001b[1m20×3 DataFrame\u001b[0m\n",
       "\u001b[1m Row \u001b[0m│\u001b[1m A     \u001b[0m\u001b[1m B     \u001b[0m\u001b[1m C     \u001b[0m\n",
       "\u001b[1m     \u001b[0m│\u001b[90m Int64 \u001b[0m\u001b[90m Int64 \u001b[0m\u001b[90m Int64 \u001b[0m\n",
       "─────┼─────────────────────\n",
       "   1 │     1     21     41\n",
       "   2 │     2     22     42\n",
       "   3 │     3     23     43\n",
       "   4 │     4     24     44\n",
       "   5 │     5     25     45\n",
       "   6 │     6     26     46\n",
       "   7 │     7     27     47\n",
       "   8 │     8     28     48\n",
       "   9 │     9     29     49\n",
       "  10 │    10     30     50\n",
       "  11 │    11     31     51\n",
       "  12 │    12     32     52\n",
       "  13 │    13     33     53\n",
       "  14 │    14     34     54\n",
       "  15 │    15     35     55\n",
       "  16 │    16     36     56\n",
       "  17 │    17     37     57\n",
       "  18 │    18     38     58\n",
       "  19 │    19     39     59\n",
       "  20 │    20     40     60"
      ]
     },
     "execution_count": 28,
     "metadata": {},
     "output_type": "execute_result"
    }
   ],
   "source": [
    "# Question 9: Create a new DataFrame named df3\n",
    "df3 = DataFrame(A = 1:20, B = 21:40, C = 41:60)"
   ]
  },
  {
   "cell_type": "code",
   "execution_count": 29,
   "metadata": {},
   "outputs": [
    {
     "data": {
      "text/html": [
       "<div class=\"data-frame\"><p>20 rows × 3 columns</p><table class=\"data-frame\"><thead><tr><th></th><th>A</th><th>B</th><th>C</th></tr><tr><th></th><th title=\"Union{Missing, Int64}\">Int64?</th><th title=\"Union{Missing, Int64}\">Int64?</th><th title=\"Union{Missing, Int64}\">Int64?</th></tr></thead><tbody><tr><th>1</th><td>1</td><td>21</td><td>41</td></tr><tr><th>2</th><td>2</td><td>22</td><td>42</td></tr><tr><th>3</th><td>3</td><td>23</td><td>43</td></tr><tr><th>4</th><td>4</td><td>24</td><td>44</td></tr><tr><th>5</th><td>5</td><td>25</td><td>45</td></tr><tr><th>6</th><td>6</td><td>26</td><td>46</td></tr><tr><th>7</th><td>7</td><td>27</td><td>47</td></tr><tr><th>8</th><td>8</td><td>28</td><td>48</td></tr><tr><th>9</th><td>9</td><td>29</td><td>49</td></tr><tr><th>10</th><td><em>missing</em></td><td>30</td><td>50</td></tr><tr><th>11</th><td>11</td><td>31</td><td>51</td></tr><tr><th>12</th><td>12</td><td>32</td><td>52</td></tr><tr><th>13</th><td>13</td><td>33</td><td>53</td></tr><tr><th>14</th><td>14</td><td>34</td><td>54</td></tr><tr><th>15</th><td>15</td><td><em>missing</em></td><td>55</td></tr><tr><th>16</th><td>16</td><td>36</td><td>56</td></tr><tr><th>17</th><td>17</td><td>37</td><td>57</td></tr><tr><th>18</th><td>18</td><td>38</td><td>58</td></tr><tr><th>19</th><td>19</td><td>39</td><td><em>missing</em></td></tr><tr><th>20</th><td>20</td><td>40</td><td>60</td></tr></tbody></table></div>"
      ],
      "text/latex": [
       "\\begin{tabular}{r|ccc}\n",
       "\t& A & B & C\\\\\n",
       "\t\\hline\n",
       "\t& Int64? & Int64? & Int64?\\\\\n",
       "\t\\hline\n",
       "\t1 & 1 & 21 & 41 \\\\\n",
       "\t2 & 2 & 22 & 42 \\\\\n",
       "\t3 & 3 & 23 & 43 \\\\\n",
       "\t4 & 4 & 24 & 44 \\\\\n",
       "\t5 & 5 & 25 & 45 \\\\\n",
       "\t6 & 6 & 26 & 46 \\\\\n",
       "\t7 & 7 & 27 & 47 \\\\\n",
       "\t8 & 8 & 28 & 48 \\\\\n",
       "\t9 & 9 & 29 & 49 \\\\\n",
       "\t10 & \\emph{missing} & 30 & 50 \\\\\n",
       "\t11 & 11 & 31 & 51 \\\\\n",
       "\t12 & 12 & 32 & 52 \\\\\n",
       "\t13 & 13 & 33 & 53 \\\\\n",
       "\t14 & 14 & 34 & 54 \\\\\n",
       "\t15 & 15 & \\emph{missing} & 55 \\\\\n",
       "\t16 & 16 & 36 & 56 \\\\\n",
       "\t17 & 17 & 37 & 57 \\\\\n",
       "\t18 & 18 & 38 & 58 \\\\\n",
       "\t19 & 19 & 39 & \\emph{missing} \\\\\n",
       "\t20 & 20 & 40 & 60 \\\\\n",
       "\\end{tabular}\n"
      ],
      "text/plain": [
       "\u001b[1m20×3 DataFrame\u001b[0m\n",
       "\u001b[1m Row \u001b[0m│\u001b[1m A       \u001b[0m\u001b[1m B       \u001b[0m\u001b[1m C       \u001b[0m\n",
       "\u001b[1m     \u001b[0m│\u001b[90m Int64?  \u001b[0m\u001b[90m Int64?  \u001b[0m\u001b[90m Int64?  \u001b[0m\n",
       "─────┼───────────────────────────\n",
       "   1 │       1       21       41\n",
       "   2 │       2       22       42\n",
       "   3 │       3       23       43\n",
       "   4 │       4       24       44\n",
       "   5 │       5       25       45\n",
       "   6 │       6       26       46\n",
       "   7 │       7       27       47\n",
       "   8 │       8       28       48\n",
       "   9 │       9       29       49\n",
       "  10 │\u001b[90m missing \u001b[0m      30       50\n",
       "  11 │      11       31       51\n",
       "  12 │      12       32       52\n",
       "  13 │      13       33       53\n",
       "  14 │      14       34       54\n",
       "  15 │      15 \u001b[90m missing \u001b[0m      55\n",
       "  16 │      16       36       56\n",
       "  17 │      17       37       57\n",
       "  18 │      18       38       58\n",
       "  19 │      19       39 \u001b[90m missing \u001b[0m\n",
       "  20 │      20       40       60"
      ]
     },
     "execution_count": 29,
     "metadata": {},
     "output_type": "execute_result"
    }
   ],
   "source": [
    "# Question 10: Change indicated values to empty entries\n",
    "allowmissing!(df3);\n",
    "df3[10, :A] = missing;\n",
    "df3[15, :B] = missing;\n",
    "df3[19, :C] = missing;\n",
    "df3"
   ]
  },
  {
   "cell_type": "code",
   "execution_count": 30,
   "metadata": {},
   "outputs": [
    {
     "data": {
      "text/html": [
       "<div class=\"data-frame\"><p>20 rows × 3 columns</p><table class=\"data-frame\"><thead><tr><th></th><th>A</th><th>B</th><th>C</th></tr><tr><th></th><th title=\"Union{Missing, Int64}\">Int64?</th><th title=\"Union{Missing, Int64}\">Int64?</th><th title=\"Union{Missing, Int64}\">Int64?</th></tr></thead><tbody><tr><th>1</th><td>1</td><td>21</td><td>41</td></tr><tr><th>2</th><td>2</td><td>22</td><td>42</td></tr><tr><th>3</th><td>3</td><td>23</td><td>43</td></tr><tr><th>4</th><td>4</td><td>24</td><td>44</td></tr><tr><th>5</th><td>5</td><td>25</td><td>45</td></tr><tr><th>6</th><td>6</td><td>26</td><td>46</td></tr><tr><th>7</th><td>7</td><td>27</td><td>47</td></tr><tr><th>8</th><td>8</td><td>28</td><td>48</td></tr><tr><th>9</th><td>9</td><td>29</td><td>49</td></tr><tr><th>10</th><td>0</td><td>30</td><td>50</td></tr><tr><th>11</th><td>11</td><td>31</td><td>51</td></tr><tr><th>12</th><td>12</td><td>32</td><td>52</td></tr><tr><th>13</th><td>13</td><td>33</td><td>53</td></tr><tr><th>14</th><td>14</td><td>34</td><td>54</td></tr><tr><th>15</th><td>15</td><td>0</td><td>55</td></tr><tr><th>16</th><td>16</td><td>36</td><td>56</td></tr><tr><th>17</th><td>17</td><td>37</td><td>57</td></tr><tr><th>18</th><td>18</td><td>38</td><td>58</td></tr><tr><th>19</th><td>19</td><td>39</td><td>0</td></tr><tr><th>20</th><td>20</td><td>40</td><td>60</td></tr></tbody></table></div>"
      ],
      "text/latex": [
       "\\begin{tabular}{r|ccc}\n",
       "\t& A & B & C\\\\\n",
       "\t\\hline\n",
       "\t& Int64? & Int64? & Int64?\\\\\n",
       "\t\\hline\n",
       "\t1 & 1 & 21 & 41 \\\\\n",
       "\t2 & 2 & 22 & 42 \\\\\n",
       "\t3 & 3 & 23 & 43 \\\\\n",
       "\t4 & 4 & 24 & 44 \\\\\n",
       "\t5 & 5 & 25 & 45 \\\\\n",
       "\t6 & 6 & 26 & 46 \\\\\n",
       "\t7 & 7 & 27 & 47 \\\\\n",
       "\t8 & 8 & 28 & 48 \\\\\n",
       "\t9 & 9 & 29 & 49 \\\\\n",
       "\t10 & 0 & 30 & 50 \\\\\n",
       "\t11 & 11 & 31 & 51 \\\\\n",
       "\t12 & 12 & 32 & 52 \\\\\n",
       "\t13 & 13 & 33 & 53 \\\\\n",
       "\t14 & 14 & 34 & 54 \\\\\n",
       "\t15 & 15 & 0 & 55 \\\\\n",
       "\t16 & 16 & 36 & 56 \\\\\n",
       "\t17 & 17 & 37 & 57 \\\\\n",
       "\t18 & 18 & 38 & 58 \\\\\n",
       "\t19 & 19 & 39 & 0 \\\\\n",
       "\t20 & 20 & 40 & 60 \\\\\n",
       "\\end{tabular}\n"
      ],
      "text/plain": [
       "\u001b[1m20×3 DataFrame\u001b[0m\n",
       "\u001b[1m Row \u001b[0m│\u001b[1m A      \u001b[0m\u001b[1m B      \u001b[0m\u001b[1m C      \u001b[0m\n",
       "\u001b[1m     \u001b[0m│\u001b[90m Int64? \u001b[0m\u001b[90m Int64? \u001b[0m\u001b[90m Int64? \u001b[0m\n",
       "─────┼────────────────────────\n",
       "   1 │      1      21      41\n",
       "   2 │      2      22      42\n",
       "   3 │      3      23      43\n",
       "   4 │      4      24      44\n",
       "   5 │      5      25      45\n",
       "   6 │      6      26      46\n",
       "   7 │      7      27      47\n",
       "   8 │      8      28      48\n",
       "   9 │      9      29      49\n",
       "  10 │      0      30      50\n",
       "  11 │     11      31      51\n",
       "  12 │     12      32      52\n",
       "  13 │     13      33      53\n",
       "  14 │     14      34      54\n",
       "  15 │     15       0      55\n",
       "  16 │     16      36      56\n",
       "  17 │     17      37      57\n",
       "  18 │     18      38      58\n",
       "  19 │     19      39       0\n",
       "  20 │     20      40      60"
      ]
     },
     "execution_count": 30,
     "metadata": {},
     "output_type": "execute_result"
    }
   ],
   "source": [
    "# Question 11: Create DataFrame df4 that contains no rows with NaN (NA) values\n",
    "df4 = df3;\n",
    "for r in eachrow(df4)\n",
    "    ismissing(r[:A]) && (r[:A] = 0)\n",
    "end\n",
    "for r in eachrow(df4)\n",
    "    ismissing(r[:B]) && (r[:B] = 0)\n",
    "end\n",
    "for r in eachrow(df4)\n",
    "    ismissing(r[:C]) && (r[:C] = 0)\n",
    "end\n",
    "df4"
   ]
  },
  {
   "cell_type": "markdown",
   "metadata": {},
   "source": [
    "# END"
   ]
  }
 ],
 "metadata": {
  "kernelspec": {
   "display_name": "Julia 1.6.1",
   "language": "julia",
   "name": "julia-1.6"
  },
  "language_info": {
   "file_extension": ".jl",
   "mimetype": "application/julia",
   "name": "julia",
   "version": "1.6.1"
  }
 },
 "nbformat": 4,
 "nbformat_minor": 4
}
