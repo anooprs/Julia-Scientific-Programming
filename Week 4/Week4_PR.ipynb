{
 "cells": [
  {
   "cell_type": "markdown",
   "metadata": {},
   "source": [
    "# Week 4 Peer Review Assignment - Working with data"
   ]
  },
  {
   "cell_type": "markdown",
   "metadata": {},
   "source": [
    "Week 4 Peer Review - Working with Distributions and DataFrames. To help you with this task, comments are added to each cell."
   ]
  },
  {
   "cell_type": "code",
   "execution_count": 52,
   "metadata": {},
   "outputs": [],
   "source": [
    "# Import the required packages\n",
    "import Pkg;\n",
    "Pkg.add(\"Distributions\")\n",
    "Pkg.add(\"DataFrames\")\n",
    "Pkg.add(\"Random\")\n",
    "using Distributions, DataFrames, Random"
   ]
  },
  {
   "cell_type": "code",
   "execution_count": 53,
   "metadata": {},
   "outputs": [],
   "source": [
    "# Seed the random number generator\n",
    "Random.seed!(1234);"
   ]
  },
  {
   "cell_type": "code",
   "execution_count": 68,
   "metadata": {},
   "outputs": [
    {
     "data": {
      "text/plain": [
       "30×3 Matrix{Float64}:\n",
       " -1.05478    8.03774  11.0\n",
       " -0.987177   9.36723   5.0\n",
       "  1.48217   10.5315   14.0\n",
       " -0.522772  12.1312    7.0\n",
       " -1.5807    12.77      8.0\n",
       "  0.131842  10.1599    5.0\n",
       "  0.447358   8.33326  14.0\n",
       " -0.396211   9.11351  15.0\n",
       "  0.366773   6.67355  11.0\n",
       "  0.621673   8.95754  13.0\n",
       "  0.182588  10.368     5.0\n",
       "  2.06353    7.4473   10.0\n",
       " -1.41453   12.0626   15.0\n",
       "  ⋮                   \n",
       "  0.076418  12.8977   10.0\n",
       "  0.799335  11.5563   14.0\n",
       " -0.734161  11.3054    7.0\n",
       "  0.259671  10.2087    8.0\n",
       " -1.04861   11.4836   11.0\n",
       "  0.199609   8.22692   5.0\n",
       " -0.80678   13.408    14.0\n",
       "  0.197804   9.07878  11.0\n",
       " -1.15533   12.7612    5.0\n",
       "  0.81871   10.0231    7.0\n",
       "  0.15131    8.95534  12.0\n",
       "  1.24723    9.14291  10.0"
      ]
     },
     "execution_count": 68,
     "metadata": {},
     "output_type": "execute_result"
    }
   ],
   "source": [
    "# Question 4: Create the 30 x 3 array named array_1\n",
    "array_1 = [rand(Normal(0, 1), 30) rand(Normal(10, 2), 30) rand(5:15, 30)]"
   ]
  },
  {
   "cell_type": "code",
   "execution_count": 69,
   "metadata": {},
   "outputs": [
    {
     "name": "stdout",
     "output_type": "stream",
     "text": [
      "Mean_of_column_1: -0.15533689760545608 Variance_of_column_1: 0.9381722981424526\n"
     ]
    }
   ],
   "source": [
    "# Question 5: Mean and variance of column 1\n",
    "println(\"Mean_of_column_1: \", mean(array_1[:,1]), \" Variance_of_column_1: \", var(array_1[:,1]));"
   ]
  },
  {
   "cell_type": "code",
   "execution_count": 70,
   "metadata": {},
   "outputs": [
    {
     "name": "stdout",
     "output_type": "stream",
     "text": [
      "Mean_of_column_2: 10.13649522943282 Variance_of_column_2: 3.5232847864485657\n"
     ]
    }
   ],
   "source": [
    "# Question 5 (continued): Mean and variance of column 2\n",
    "println(\"Mean_of_column_2: \", mean(array_1[:,2]), \" Variance_of_column_2: \", var(array_1[:,2]));"
   ]
  },
  {
   "cell_type": "code",
   "execution_count": 71,
   "metadata": {},
   "outputs": [
    {
     "name": "stdout",
     "output_type": "stream",
     "text": [
      "Mean_of_column_3: 10.366666666666667 Variance_of_column_3: 12.44712643678161\n"
     ]
    }
   ],
   "source": [
    "# Question 5 (continued): Mean and variance of column 3\n",
    "println(\"Mean_of_column_3: \", mean(array_1[:,3]), \" Variance_of_column_3: \", var(array_1[:,3]));\n"
   ]
  },
  {
   "cell_type": "code",
   "execution_count": 74,
   "metadata": {},
   "outputs": [
    {
     "data": {
      "text/html": [
       "<div class=\"data-frame\"><p>30 rows × 3 columns</p><table class=\"data-frame\"><thead><tr><th></th><th>x1</th><th>x2</th><th>x3</th></tr><tr><th></th><th title=\"Float64\">Float64</th><th title=\"Float64\">Float64</th><th title=\"Float64\">Float64</th></tr></thead><tbody><tr><th>1</th><td>-1.05478</td><td>8.03774</td><td>11.0</td></tr><tr><th>2</th><td>-0.987177</td><td>9.36723</td><td>5.0</td></tr><tr><th>3</th><td>1.48217</td><td>10.5315</td><td>14.0</td></tr><tr><th>4</th><td>-0.522772</td><td>12.1312</td><td>7.0</td></tr><tr><th>5</th><td>-1.5807</td><td>12.77</td><td>8.0</td></tr><tr><th>6</th><td>0.131842</td><td>10.1599</td><td>5.0</td></tr><tr><th>7</th><td>0.447358</td><td>8.33326</td><td>14.0</td></tr><tr><th>8</th><td>-0.396211</td><td>9.11351</td><td>15.0</td></tr><tr><th>9</th><td>0.366773</td><td>6.67355</td><td>11.0</td></tr><tr><th>10</th><td>0.621673</td><td>8.95754</td><td>13.0</td></tr><tr><th>11</th><td>0.182588</td><td>10.368</td><td>5.0</td></tr><tr><th>12</th><td>2.06353</td><td>7.4473</td><td>10.0</td></tr><tr><th>13</th><td>-1.41453</td><td>12.0626</td><td>15.0</td></tr><tr><th>14</th><td>0.134475</td><td>8.17839</td><td>15.0</td></tr><tr><th>15</th><td>-0.750421</td><td>11.5092</td><td>14.0</td></tr><tr><th>16</th><td>0.170778</td><td>7.41051</td><td>8.0</td></tr><tr><th>17</th><td>-1.58492</td><td>9.38211</td><td>12.0</td></tr><tr><th>18</th><td>-1.975</td><td>12.6134</td><td>15.0</td></tr><tr><th>19</th><td>0.076418</td><td>12.8977</td><td>10.0</td></tr><tr><th>20</th><td>0.799335</td><td>11.5563</td><td>14.0</td></tr><tr><th>21</th><td>-0.734161</td><td>11.3054</td><td>7.0</td></tr><tr><th>22</th><td>0.259671</td><td>10.2087</td><td>8.0</td></tr><tr><th>23</th><td>-1.04861</td><td>11.4836</td><td>11.0</td></tr><tr><th>24</th><td>0.199609</td><td>8.22692</td><td>5.0</td></tr><tr><th>25</th><td>-0.80678</td><td>13.408</td><td>14.0</td></tr><tr><th>26</th><td>0.197804</td><td>9.07878</td><td>11.0</td></tr><tr><th>27</th><td>-1.15533</td><td>12.7612</td><td>5.0</td></tr><tr><th>28</th><td>0.81871</td><td>10.0231</td><td>7.0</td></tr><tr><th>29</th><td>0.15131</td><td>8.95534</td><td>12.0</td></tr><tr><th>30</th><td>1.24723</td><td>9.14291</td><td>10.0</td></tr></tbody></table></div>"
      ],
      "text/latex": [
       "\\begin{tabular}{r|ccc}\n",
       "\t& x1 & x2 & x3\\\\\n",
       "\t\\hline\n",
       "\t& Float64 & Float64 & Float64\\\\\n",
       "\t\\hline\n",
       "\t1 & -1.05478 & 8.03774 & 11.0 \\\\\n",
       "\t2 & -0.987177 & 9.36723 & 5.0 \\\\\n",
       "\t3 & 1.48217 & 10.5315 & 14.0 \\\\\n",
       "\t4 & -0.522772 & 12.1312 & 7.0 \\\\\n",
       "\t5 & -1.5807 & 12.77 & 8.0 \\\\\n",
       "\t6 & 0.131842 & 10.1599 & 5.0 \\\\\n",
       "\t7 & 0.447358 & 8.33326 & 14.0 \\\\\n",
       "\t8 & -0.396211 & 9.11351 & 15.0 \\\\\n",
       "\t9 & 0.366773 & 6.67355 & 11.0 \\\\\n",
       "\t10 & 0.621673 & 8.95754 & 13.0 \\\\\n",
       "\t11 & 0.182588 & 10.368 & 5.0 \\\\\n",
       "\t12 & 2.06353 & 7.4473 & 10.0 \\\\\n",
       "\t13 & -1.41453 & 12.0626 & 15.0 \\\\\n",
       "\t14 & 0.134475 & 8.17839 & 15.0 \\\\\n",
       "\t15 & -0.750421 & 11.5092 & 14.0 \\\\\n",
       "\t16 & 0.170778 & 7.41051 & 8.0 \\\\\n",
       "\t17 & -1.58492 & 9.38211 & 12.0 \\\\\n",
       "\t18 & -1.975 & 12.6134 & 15.0 \\\\\n",
       "\t19 & 0.076418 & 12.8977 & 10.0 \\\\\n",
       "\t20 & 0.799335 & 11.5563 & 14.0 \\\\\n",
       "\t21 & -0.734161 & 11.3054 & 7.0 \\\\\n",
       "\t22 & 0.259671 & 10.2087 & 8.0 \\\\\n",
       "\t23 & -1.04861 & 11.4836 & 11.0 \\\\\n",
       "\t24 & 0.199609 & 8.22692 & 5.0 \\\\\n",
       "\t25 & -0.80678 & 13.408 & 14.0 \\\\\n",
       "\t26 & 0.197804 & 9.07878 & 11.0 \\\\\n",
       "\t27 & -1.15533 & 12.7612 & 5.0 \\\\\n",
       "\t28 & 0.81871 & 10.0231 & 7.0 \\\\\n",
       "\t29 & 0.15131 & 8.95534 & 12.0 \\\\\n",
       "\t30 & 1.24723 & 9.14291 & 10.0 \\\\\n",
       "\\end{tabular}\n"
      ],
      "text/plain": [
       "\u001b[1m30×3 DataFrame\u001b[0m\n",
       "\u001b[1m Row \u001b[0m│\u001b[1m x1        \u001b[0m\u001b[1m x2       \u001b[0m\u001b[1m x3      \u001b[0m\n",
       "\u001b[1m     \u001b[0m│\u001b[90m Float64   \u001b[0m\u001b[90m Float64  \u001b[0m\u001b[90m Float64 \u001b[0m\n",
       "─────┼──────────────────────────────\n",
       "   1 │ -1.05478    8.03774     11.0\n",
       "   2 │ -0.987177   9.36723      5.0\n",
       "   3 │  1.48217   10.5315      14.0\n",
       "   4 │ -0.522772  12.1312       7.0\n",
       "   5 │ -1.5807    12.77         8.0\n",
       "   6 │  0.131842  10.1599       5.0\n",
       "   7 │  0.447358   8.33326     14.0\n",
       "   8 │ -0.396211   9.11351     15.0\n",
       "   9 │  0.366773   6.67355     11.0\n",
       "  10 │  0.621673   8.95754     13.0\n",
       "  11 │  0.182588  10.368        5.0\n",
       "  ⋮  │     ⋮         ⋮         ⋮\n",
       "  21 │ -0.734161  11.3054       7.0\n",
       "  22 │  0.259671  10.2087       8.0\n",
       "  23 │ -1.04861   11.4836      11.0\n",
       "  24 │  0.199609   8.22692      5.0\n",
       "  25 │ -0.80678   13.408       14.0\n",
       "  26 │  0.197804   9.07878     11.0\n",
       "  27 │ -1.15533   12.7612       5.0\n",
       "  28 │  0.81871   10.0231       7.0\n",
       "  29 │  0.15131    8.95534     12.0\n",
       "  30 │  1.24723    9.14291     10.0\n",
       "\u001b[36m                      9 rows omitted\u001b[0m"
      ]
     },
     "execution_count": 74,
     "metadata": {},
     "output_type": "execute_result"
    }
   ],
   "source": [
    "# Question 6: Import array_1 into a DataFrame named df\n",
    "df = DataFrame(array_1, :auto)"
   ]
  },
  {
   "cell_type": "code",
   "execution_count": 75,
   "metadata": {},
   "outputs": [
    {
     "data": {
      "text/html": [
       "<div class=\"data-frame\"><p>30 rows × 3 columns</p><table class=\"data-frame\"><thead><tr><th></th><th>Var1</th><th>Var2</th><th>Var3</th></tr><tr><th></th><th title=\"Float64\">Float64</th><th title=\"Float64\">Float64</th><th title=\"Float64\">Float64</th></tr></thead><tbody><tr><th>1</th><td>-1.05478</td><td>8.03774</td><td>11.0</td></tr><tr><th>2</th><td>-0.987177</td><td>9.36723</td><td>5.0</td></tr><tr><th>3</th><td>1.48217</td><td>10.5315</td><td>14.0</td></tr><tr><th>4</th><td>-0.522772</td><td>12.1312</td><td>7.0</td></tr><tr><th>5</th><td>-1.5807</td><td>12.77</td><td>8.0</td></tr><tr><th>6</th><td>0.131842</td><td>10.1599</td><td>5.0</td></tr><tr><th>7</th><td>0.447358</td><td>8.33326</td><td>14.0</td></tr><tr><th>8</th><td>-0.396211</td><td>9.11351</td><td>15.0</td></tr><tr><th>9</th><td>0.366773</td><td>6.67355</td><td>11.0</td></tr><tr><th>10</th><td>0.621673</td><td>8.95754</td><td>13.0</td></tr><tr><th>11</th><td>0.182588</td><td>10.368</td><td>5.0</td></tr><tr><th>12</th><td>2.06353</td><td>7.4473</td><td>10.0</td></tr><tr><th>13</th><td>-1.41453</td><td>12.0626</td><td>15.0</td></tr><tr><th>14</th><td>0.134475</td><td>8.17839</td><td>15.0</td></tr><tr><th>15</th><td>-0.750421</td><td>11.5092</td><td>14.0</td></tr><tr><th>16</th><td>0.170778</td><td>7.41051</td><td>8.0</td></tr><tr><th>17</th><td>-1.58492</td><td>9.38211</td><td>12.0</td></tr><tr><th>18</th><td>-1.975</td><td>12.6134</td><td>15.0</td></tr><tr><th>19</th><td>0.076418</td><td>12.8977</td><td>10.0</td></tr><tr><th>20</th><td>0.799335</td><td>11.5563</td><td>14.0</td></tr><tr><th>21</th><td>-0.734161</td><td>11.3054</td><td>7.0</td></tr><tr><th>22</th><td>0.259671</td><td>10.2087</td><td>8.0</td></tr><tr><th>23</th><td>-1.04861</td><td>11.4836</td><td>11.0</td></tr><tr><th>24</th><td>0.199609</td><td>8.22692</td><td>5.0</td></tr><tr><th>25</th><td>-0.80678</td><td>13.408</td><td>14.0</td></tr><tr><th>26</th><td>0.197804</td><td>9.07878</td><td>11.0</td></tr><tr><th>27</th><td>-1.15533</td><td>12.7612</td><td>5.0</td></tr><tr><th>28</th><td>0.81871</td><td>10.0231</td><td>7.0</td></tr><tr><th>29</th><td>0.15131</td><td>8.95534</td><td>12.0</td></tr><tr><th>30</th><td>1.24723</td><td>9.14291</td><td>10.0</td></tr></tbody></table></div>"
      ],
      "text/latex": [
       "\\begin{tabular}{r|ccc}\n",
       "\t& Var1 & Var2 & Var3\\\\\n",
       "\t\\hline\n",
       "\t& Float64 & Float64 & Float64\\\\\n",
       "\t\\hline\n",
       "\t1 & -1.05478 & 8.03774 & 11.0 \\\\\n",
       "\t2 & -0.987177 & 9.36723 & 5.0 \\\\\n",
       "\t3 & 1.48217 & 10.5315 & 14.0 \\\\\n",
       "\t4 & -0.522772 & 12.1312 & 7.0 \\\\\n",
       "\t5 & -1.5807 & 12.77 & 8.0 \\\\\n",
       "\t6 & 0.131842 & 10.1599 & 5.0 \\\\\n",
       "\t7 & 0.447358 & 8.33326 & 14.0 \\\\\n",
       "\t8 & -0.396211 & 9.11351 & 15.0 \\\\\n",
       "\t9 & 0.366773 & 6.67355 & 11.0 \\\\\n",
       "\t10 & 0.621673 & 8.95754 & 13.0 \\\\\n",
       "\t11 & 0.182588 & 10.368 & 5.0 \\\\\n",
       "\t12 & 2.06353 & 7.4473 & 10.0 \\\\\n",
       "\t13 & -1.41453 & 12.0626 & 15.0 \\\\\n",
       "\t14 & 0.134475 & 8.17839 & 15.0 \\\\\n",
       "\t15 & -0.750421 & 11.5092 & 14.0 \\\\\n",
       "\t16 & 0.170778 & 7.41051 & 8.0 \\\\\n",
       "\t17 & -1.58492 & 9.38211 & 12.0 \\\\\n",
       "\t18 & -1.975 & 12.6134 & 15.0 \\\\\n",
       "\t19 & 0.076418 & 12.8977 & 10.0 \\\\\n",
       "\t20 & 0.799335 & 11.5563 & 14.0 \\\\\n",
       "\t21 & -0.734161 & 11.3054 & 7.0 \\\\\n",
       "\t22 & 0.259671 & 10.2087 & 8.0 \\\\\n",
       "\t23 & -1.04861 & 11.4836 & 11.0 \\\\\n",
       "\t24 & 0.199609 & 8.22692 & 5.0 \\\\\n",
       "\t25 & -0.80678 & 13.408 & 14.0 \\\\\n",
       "\t26 & 0.197804 & 9.07878 & 11.0 \\\\\n",
       "\t27 & -1.15533 & 12.7612 & 5.0 \\\\\n",
       "\t28 & 0.81871 & 10.0231 & 7.0 \\\\\n",
       "\t29 & 0.15131 & 8.95534 & 12.0 \\\\\n",
       "\t30 & 1.24723 & 9.14291 & 10.0 \\\\\n",
       "\\end{tabular}\n"
      ],
      "text/plain": [
       "\u001b[1m30×3 DataFrame\u001b[0m\n",
       "\u001b[1m Row \u001b[0m│\u001b[1m Var1      \u001b[0m\u001b[1m Var2     \u001b[0m\u001b[1m Var3    \u001b[0m\n",
       "\u001b[1m     \u001b[0m│\u001b[90m Float64   \u001b[0m\u001b[90m Float64  \u001b[0m\u001b[90m Float64 \u001b[0m\n",
       "─────┼──────────────────────────────\n",
       "   1 │ -1.05478    8.03774     11.0\n",
       "   2 │ -0.987177   9.36723      5.0\n",
       "   3 │  1.48217   10.5315      14.0\n",
       "   4 │ -0.522772  12.1312       7.0\n",
       "   5 │ -1.5807    12.77         8.0\n",
       "   6 │  0.131842  10.1599       5.0\n",
       "   7 │  0.447358   8.33326     14.0\n",
       "   8 │ -0.396211   9.11351     15.0\n",
       "   9 │  0.366773   6.67355     11.0\n",
       "  10 │  0.621673   8.95754     13.0\n",
       "  11 │  0.182588  10.368        5.0\n",
       "  ⋮  │     ⋮         ⋮         ⋮\n",
       "  21 │ -0.734161  11.3054       7.0\n",
       "  22 │  0.259671  10.2087       8.0\n",
       "  23 │ -1.04861   11.4836      11.0\n",
       "  24 │  0.199609   8.22692      5.0\n",
       "  25 │ -0.80678   13.408       14.0\n",
       "  26 │  0.197804   9.07878     11.0\n",
       "  27 │ -1.15533   12.7612       5.0\n",
       "  28 │  0.81871   10.0231       7.0\n",
       "  29 │  0.15131    8.95534     12.0\n",
       "  30 │  1.24723    9.14291     10.0\n",
       "\u001b[36m                      9 rows omitted\u001b[0m"
      ]
     },
     "execution_count": 75,
     "metadata": {},
     "output_type": "execute_result"
    }
   ],
   "source": [
    "# Question 7: Change the names of the columns to Var1, Var2, and Var3\n",
    "rename!(df, Dict(:x1 => :Var1, :x2 => :Var2, :x3 => :Var3))\n"
   ]
  },
  {
   "cell_type": "code",
   "execution_count": 76,
   "metadata": {},
   "outputs": [
    {
     "data": {
      "text/html": [
       "<div class=\"data-frame\"><p>20 rows × 3 columns</p><table class=\"data-frame\"><thead><tr><th></th><th>Var1</th><th>Var2</th><th>Var3</th></tr><tr><th></th><th title=\"Float64\">Float64</th><th title=\"Float64\">Float64</th><th title=\"Float64\">Float64</th></tr></thead><tbody><tr><th>1</th><td>0.182588</td><td>10.368</td><td>5.0</td></tr><tr><th>2</th><td>2.06353</td><td>7.4473</td><td>10.0</td></tr><tr><th>3</th><td>-1.41453</td><td>12.0626</td><td>15.0</td></tr><tr><th>4</th><td>0.134475</td><td>8.17839</td><td>15.0</td></tr><tr><th>5</th><td>-0.750421</td><td>11.5092</td><td>14.0</td></tr><tr><th>6</th><td>0.170778</td><td>7.41051</td><td>8.0</td></tr><tr><th>7</th><td>-1.58492</td><td>9.38211</td><td>12.0</td></tr><tr><th>8</th><td>-1.975</td><td>12.6134</td><td>15.0</td></tr><tr><th>9</th><td>0.076418</td><td>12.8977</td><td>10.0</td></tr><tr><th>10</th><td>0.799335</td><td>11.5563</td><td>14.0</td></tr><tr><th>11</th><td>-0.734161</td><td>11.3054</td><td>7.0</td></tr><tr><th>12</th><td>0.259671</td><td>10.2087</td><td>8.0</td></tr><tr><th>13</th><td>-1.04861</td><td>11.4836</td><td>11.0</td></tr><tr><th>14</th><td>0.199609</td><td>8.22692</td><td>5.0</td></tr><tr><th>15</th><td>-0.80678</td><td>13.408</td><td>14.0</td></tr><tr><th>16</th><td>0.197804</td><td>9.07878</td><td>11.0</td></tr><tr><th>17</th><td>-1.15533</td><td>12.7612</td><td>5.0</td></tr><tr><th>18</th><td>0.81871</td><td>10.0231</td><td>7.0</td></tr><tr><th>19</th><td>0.15131</td><td>8.95534</td><td>12.0</td></tr><tr><th>20</th><td>1.24723</td><td>9.14291</td><td>10.0</td></tr></tbody></table></div>"
      ],
      "text/latex": [
       "\\begin{tabular}{r|ccc}\n",
       "\t& Var1 & Var2 & Var3\\\\\n",
       "\t\\hline\n",
       "\t& Float64 & Float64 & Float64\\\\\n",
       "\t\\hline\n",
       "\t1 & 0.182588 & 10.368 & 5.0 \\\\\n",
       "\t2 & 2.06353 & 7.4473 & 10.0 \\\\\n",
       "\t3 & -1.41453 & 12.0626 & 15.0 \\\\\n",
       "\t4 & 0.134475 & 8.17839 & 15.0 \\\\\n",
       "\t5 & -0.750421 & 11.5092 & 14.0 \\\\\n",
       "\t6 & 0.170778 & 7.41051 & 8.0 \\\\\n",
       "\t7 & -1.58492 & 9.38211 & 12.0 \\\\\n",
       "\t8 & -1.975 & 12.6134 & 15.0 \\\\\n",
       "\t9 & 0.076418 & 12.8977 & 10.0 \\\\\n",
       "\t10 & 0.799335 & 11.5563 & 14.0 \\\\\n",
       "\t11 & -0.734161 & 11.3054 & 7.0 \\\\\n",
       "\t12 & 0.259671 & 10.2087 & 8.0 \\\\\n",
       "\t13 & -1.04861 & 11.4836 & 11.0 \\\\\n",
       "\t14 & 0.199609 & 8.22692 & 5.0 \\\\\n",
       "\t15 & -0.80678 & 13.408 & 14.0 \\\\\n",
       "\t16 & 0.197804 & 9.07878 & 11.0 \\\\\n",
       "\t17 & -1.15533 & 12.7612 & 5.0 \\\\\n",
       "\t18 & 0.81871 & 10.0231 & 7.0 \\\\\n",
       "\t19 & 0.15131 & 8.95534 & 12.0 \\\\\n",
       "\t20 & 1.24723 & 9.14291 & 10.0 \\\\\n",
       "\\end{tabular}\n"
      ],
      "text/plain": [
       "\u001b[1m20×3 DataFrame\u001b[0m\n",
       "\u001b[1m Row \u001b[0m│\u001b[1m Var1      \u001b[0m\u001b[1m Var2     \u001b[0m\u001b[1m Var3    \u001b[0m\n",
       "\u001b[1m     \u001b[0m│\u001b[90m Float64   \u001b[0m\u001b[90m Float64  \u001b[0m\u001b[90m Float64 \u001b[0m\n",
       "─────┼──────────────────────────────\n",
       "   1 │  0.182588  10.368        5.0\n",
       "   2 │  2.06353    7.4473      10.0\n",
       "   3 │ -1.41453   12.0626      15.0\n",
       "   4 │  0.134475   8.17839     15.0\n",
       "   5 │ -0.750421  11.5092      14.0\n",
       "   6 │  0.170778   7.41051      8.0\n",
       "   7 │ -1.58492    9.38211     12.0\n",
       "   8 │ -1.975     12.6134      15.0\n",
       "   9 │  0.076418  12.8977      10.0\n",
       "  10 │  0.799335  11.5563      14.0\n",
       "  11 │ -0.734161  11.3054       7.0\n",
       "  12 │  0.259671  10.2087       8.0\n",
       "  13 │ -1.04861   11.4836      11.0\n",
       "  14 │  0.199609   8.22692      5.0\n",
       "  15 │ -0.80678   13.408       14.0\n",
       "  16 │  0.197804   9.07878     11.0\n",
       "  17 │ -1.15533   12.7612       5.0\n",
       "  18 │  0.81871   10.0231       7.0\n",
       "  19 │  0.15131    8.95534     12.0\n",
       "  20 │  1.24723    9.14291     10.0"
      ]
     },
     "execution_count": 76,
     "metadata": {},
     "output_type": "execute_result"
    }
   ],
   "source": [
    "# Question 8: Create and new DataFrame named df2 from the last 20 rows of df\n",
    "df2 = df[11:30, :]"
   ]
  },
  {
   "cell_type": "code",
   "execution_count": 77,
   "metadata": {},
   "outputs": [
    {
     "data": {
      "text/html": [
       "<div class=\"data-frame\"><p>3 rows × 7 columns</p><table class=\"data-frame\"><thead><tr><th></th><th>variable</th><th>mean</th><th>min</th><th>median</th><th>max</th><th>nmissing</th><th>eltype</th></tr><tr><th></th><th title=\"Symbol\">Symbol</th><th title=\"Float64\">Float64</th><th title=\"Float64\">Float64</th><th title=\"Float64\">Float64</th><th title=\"Float64\">Float64</th><th title=\"Int64\">Int64</th><th title=\"DataType\">DataType</th></tr></thead><tbody><tr><th>1</th><td>Var1</td><td>-0.158414</td><td>-1.975</td><td>0.142893</td><td>2.06353</td><td>0</td><td>Float64</td></tr><tr><th>2</th><td>Var2</td><td>10.401</td><td>7.41051</td><td>10.2883</td><td>13.408</td><td>0</td><td>Float64</td></tr><tr><th>3</th><td>Var3</td><td>10.4</td><td>5.0</td><td>10.5</td><td>15.0</td><td>0</td><td>Float64</td></tr></tbody></table></div>"
      ],
      "text/latex": [
       "\\begin{tabular}{r|ccccccc}\n",
       "\t& variable & mean & min & median & max & nmissing & eltype\\\\\n",
       "\t\\hline\n",
       "\t& Symbol & Float64 & Float64 & Float64 & Float64 & Int64 & DataType\\\\\n",
       "\t\\hline\n",
       "\t1 & Var1 & -0.158414 & -1.975 & 0.142893 & 2.06353 & 0 & Float64 \\\\\n",
       "\t2 & Var2 & 10.401 & 7.41051 & 10.2883 & 13.408 & 0 & Float64 \\\\\n",
       "\t3 & Var3 & 10.4 & 5.0 & 10.5 & 15.0 & 0 & Float64 \\\\\n",
       "\\end{tabular}\n"
      ],
      "text/plain": [
       "\u001b[1m3×7 DataFrame\u001b[0m\n",
       "\u001b[1m Row \u001b[0m│\u001b[1m variable \u001b[0m\u001b[1m mean      \u001b[0m\u001b[1m min      \u001b[0m\u001b[1m median    \u001b[0m\u001b[1m max      \u001b[0m\u001b[1m nmissing \u001b[0m\u001b[1m eltype   \u001b[0m\n",
       "\u001b[1m     \u001b[0m│\u001b[90m Symbol   \u001b[0m\u001b[90m Float64   \u001b[0m\u001b[90m Float64  \u001b[0m\u001b[90m Float64   \u001b[0m\u001b[90m Float64  \u001b[0m\u001b[90m Int64    \u001b[0m\u001b[90m DataType \u001b[0m\n",
       "─────┼────────────────────────────────────────────────────────────────────────\n",
       "   1 │ Var1      -0.158414  -1.975     0.142893   2.06353         0  Float64\n",
       "   2 │ Var2      10.401      7.41051  10.2883    13.408           0  Float64\n",
       "   3 │ Var3      10.4        5.0      10.5       15.0             0  Float64"
      ]
     },
     "execution_count": 77,
     "metadata": {},
     "output_type": "execute_result"
    }
   ],
   "source": [
    "# Question 9: Calculate simple descriptive statistics of all the columns in df2 using the describe() function\n",
    "describe(df2)"
   ]
  },
  {
   "cell_type": "code",
   "execution_count": 78,
   "metadata": {},
   "outputs": [
    {
     "ename": "LoadError",
     "evalue": "ArgumentError: syntax df[column] is not supported use df[!, column] instead",
     "output_type": "error",
     "traceback": [
      "ArgumentError: syntax df[column] is not supported use df[!, column] instead",
      "",
      "Stacktrace:",
      " [1] setindex!(#unused#::DataFrame, #unused#::Vector{String}, #unused#::Symbol)",
      "   @ DataFrames C:\\Users\\anoop\\.julia\\packages\\DataFrames\\pVFzb\\src\\abstractdataframe\\abstractdataframe.jl:2164",
      " [2] top-level scope",
      "   @ In[78]:2",
      " [3] eval",
      "   @ .\\boot.jl:360 [inlined]",
      " [4] include_string(mapexpr::typeof(REPL.softscope), mod::Module, code::String, filename::String)",
      "   @ Base .\\loading.jl:1094"
     ]
    }
   ],
   "source": [
    "# Question 10: Add a column to df2 named Cat1 to df2 consisting of randomly selecting either the strings GroupA or GroupB\n",
    "df2[:Cat1] = rand([\"GroupA\", \"GroupB\"], 20)"
   ]
  },
  {
   "cell_type": "code",
   "execution_count": 79,
   "metadata": {},
   "outputs": [
    {
     "data": {
      "text/html": [
       "<div class=\"data-frame\"><p>20 rows × 3 columns</p><table class=\"data-frame\"><thead><tr><th></th><th>A</th><th>B</th><th>C</th></tr><tr><th></th><th title=\"Int64\">Int64</th><th title=\"Int64\">Int64</th><th title=\"Int64\">Int64</th></tr></thead><tbody><tr><th>1</th><td>1</td><td>21</td><td>41</td></tr><tr><th>2</th><td>2</td><td>22</td><td>42</td></tr><tr><th>3</th><td>3</td><td>23</td><td>43</td></tr><tr><th>4</th><td>4</td><td>24</td><td>44</td></tr><tr><th>5</th><td>5</td><td>25</td><td>45</td></tr><tr><th>6</th><td>6</td><td>26</td><td>46</td></tr><tr><th>7</th><td>7</td><td>27</td><td>47</td></tr><tr><th>8</th><td>8</td><td>28</td><td>48</td></tr><tr><th>9</th><td>9</td><td>29</td><td>49</td></tr><tr><th>10</th><td>10</td><td>30</td><td>50</td></tr><tr><th>11</th><td>11</td><td>31</td><td>51</td></tr><tr><th>12</th><td>12</td><td>32</td><td>52</td></tr><tr><th>13</th><td>13</td><td>33</td><td>53</td></tr><tr><th>14</th><td>14</td><td>34</td><td>54</td></tr><tr><th>15</th><td>15</td><td>35</td><td>55</td></tr><tr><th>16</th><td>16</td><td>36</td><td>56</td></tr><tr><th>17</th><td>17</td><td>37</td><td>57</td></tr><tr><th>18</th><td>18</td><td>38</td><td>58</td></tr><tr><th>19</th><td>19</td><td>39</td><td>59</td></tr><tr><th>20</th><td>20</td><td>40</td><td>60</td></tr></tbody></table></div>"
      ],
      "text/latex": [
       "\\begin{tabular}{r|ccc}\n",
       "\t& A & B & C\\\\\n",
       "\t\\hline\n",
       "\t& Int64 & Int64 & Int64\\\\\n",
       "\t\\hline\n",
       "\t1 & 1 & 21 & 41 \\\\\n",
       "\t2 & 2 & 22 & 42 \\\\\n",
       "\t3 & 3 & 23 & 43 \\\\\n",
       "\t4 & 4 & 24 & 44 \\\\\n",
       "\t5 & 5 & 25 & 45 \\\\\n",
       "\t6 & 6 & 26 & 46 \\\\\n",
       "\t7 & 7 & 27 & 47 \\\\\n",
       "\t8 & 8 & 28 & 48 \\\\\n",
       "\t9 & 9 & 29 & 49 \\\\\n",
       "\t10 & 10 & 30 & 50 \\\\\n",
       "\t11 & 11 & 31 & 51 \\\\\n",
       "\t12 & 12 & 32 & 52 \\\\\n",
       "\t13 & 13 & 33 & 53 \\\\\n",
       "\t14 & 14 & 34 & 54 \\\\\n",
       "\t15 & 15 & 35 & 55 \\\\\n",
       "\t16 & 16 & 36 & 56 \\\\\n",
       "\t17 & 17 & 37 & 57 \\\\\n",
       "\t18 & 18 & 38 & 58 \\\\\n",
       "\t19 & 19 & 39 & 59 \\\\\n",
       "\t20 & 20 & 40 & 60 \\\\\n",
       "\\end{tabular}\n"
      ],
      "text/plain": [
       "\u001b[1m20×3 DataFrame\u001b[0m\n",
       "\u001b[1m Row \u001b[0m│\u001b[1m A     \u001b[0m\u001b[1m B     \u001b[0m\u001b[1m C     \u001b[0m\n",
       "\u001b[1m     \u001b[0m│\u001b[90m Int64 \u001b[0m\u001b[90m Int64 \u001b[0m\u001b[90m Int64 \u001b[0m\n",
       "─────┼─────────────────────\n",
       "   1 │     1     21     41\n",
       "   2 │     2     22     42\n",
       "   3 │     3     23     43\n",
       "   4 │     4     24     44\n",
       "   5 │     5     25     45\n",
       "   6 │     6     26     46\n",
       "   7 │     7     27     47\n",
       "   8 │     8     28     48\n",
       "   9 │     9     29     49\n",
       "  10 │    10     30     50\n",
       "  11 │    11     31     51\n",
       "  12 │    12     32     52\n",
       "  13 │    13     33     53\n",
       "  14 │    14     34     54\n",
       "  15 │    15     35     55\n",
       "  16 │    16     36     56\n",
       "  17 │    17     37     57\n",
       "  18 │    18     38     58\n",
       "  19 │    19     39     59\n",
       "  20 │    20     40     60"
      ]
     },
     "execution_count": 79,
     "metadata": {},
     "output_type": "execute_result"
    }
   ],
   "source": [
    "# Question 11: Create a new DataFrame named df3\n",
    "df3 = DataFrame(A = 1:20, B = 21:40, C = 41:60)"
   ]
  },
  {
   "cell_type": "code",
   "execution_count": 80,
   "metadata": {},
   "outputs": [
    {
     "data": {
      "text/html": [
       "<div class=\"data-frame\"><p>20 rows × 3 columns</p><table class=\"data-frame\"><thead><tr><th></th><th>A</th><th>B</th><th>C</th></tr><tr><th></th><th title=\"Union{Missing, Int64}\">Int64?</th><th title=\"Union{Missing, Int64}\">Int64?</th><th title=\"Union{Missing, Int64}\">Int64?</th></tr></thead><tbody><tr><th>1</th><td>1</td><td>21</td><td>41</td></tr><tr><th>2</th><td>2</td><td>22</td><td>42</td></tr><tr><th>3</th><td>3</td><td>23</td><td>43</td></tr><tr><th>4</th><td>4</td><td>24</td><td>44</td></tr><tr><th>5</th><td>5</td><td>25</td><td>45</td></tr><tr><th>6</th><td>6</td><td>26</td><td>46</td></tr><tr><th>7</th><td>7</td><td>27</td><td>47</td></tr><tr><th>8</th><td>8</td><td>28</td><td>48</td></tr><tr><th>9</th><td>9</td><td>29</td><td>49</td></tr><tr><th>10</th><td><em>missing</em></td><td>30</td><td>50</td></tr><tr><th>11</th><td>11</td><td>31</td><td>51</td></tr><tr><th>12</th><td>12</td><td>32</td><td>52</td></tr><tr><th>13</th><td>13</td><td>33</td><td>53</td></tr><tr><th>14</th><td>14</td><td>34</td><td>54</td></tr><tr><th>15</th><td>15</td><td><em>missing</em></td><td>55</td></tr><tr><th>16</th><td>16</td><td>36</td><td>56</td></tr><tr><th>17</th><td>17</td><td>37</td><td>57</td></tr><tr><th>18</th><td>18</td><td>38</td><td>58</td></tr><tr><th>19</th><td>19</td><td>39</td><td><em>missing</em></td></tr><tr><th>20</th><td>20</td><td>40</td><td>60</td></tr></tbody></table></div>"
      ],
      "text/latex": [
       "\\begin{tabular}{r|ccc}\n",
       "\t& A & B & C\\\\\n",
       "\t\\hline\n",
       "\t& Int64? & Int64? & Int64?\\\\\n",
       "\t\\hline\n",
       "\t1 & 1 & 21 & 41 \\\\\n",
       "\t2 & 2 & 22 & 42 \\\\\n",
       "\t3 & 3 & 23 & 43 \\\\\n",
       "\t4 & 4 & 24 & 44 \\\\\n",
       "\t5 & 5 & 25 & 45 \\\\\n",
       "\t6 & 6 & 26 & 46 \\\\\n",
       "\t7 & 7 & 27 & 47 \\\\\n",
       "\t8 & 8 & 28 & 48 \\\\\n",
       "\t9 & 9 & 29 & 49 \\\\\n",
       "\t10 & \\emph{missing} & 30 & 50 \\\\\n",
       "\t11 & 11 & 31 & 51 \\\\\n",
       "\t12 & 12 & 32 & 52 \\\\\n",
       "\t13 & 13 & 33 & 53 \\\\\n",
       "\t14 & 14 & 34 & 54 \\\\\n",
       "\t15 & 15 & \\emph{missing} & 55 \\\\\n",
       "\t16 & 16 & 36 & 56 \\\\\n",
       "\t17 & 17 & 37 & 57 \\\\\n",
       "\t18 & 18 & 38 & 58 \\\\\n",
       "\t19 & 19 & 39 & \\emph{missing} \\\\\n",
       "\t20 & 20 & 40 & 60 \\\\\n",
       "\\end{tabular}\n"
      ],
      "text/plain": [
       "\u001b[1m20×3 DataFrame\u001b[0m\n",
       "\u001b[1m Row \u001b[0m│\u001b[1m A       \u001b[0m\u001b[1m B       \u001b[0m\u001b[1m C       \u001b[0m\n",
       "\u001b[1m     \u001b[0m│\u001b[90m Int64?  \u001b[0m\u001b[90m Int64?  \u001b[0m\u001b[90m Int64?  \u001b[0m\n",
       "─────┼───────────────────────────\n",
       "   1 │       1       21       41\n",
       "   2 │       2       22       42\n",
       "   3 │       3       23       43\n",
       "   4 │       4       24       44\n",
       "   5 │       5       25       45\n",
       "   6 │       6       26       46\n",
       "   7 │       7       27       47\n",
       "   8 │       8       28       48\n",
       "   9 │       9       29       49\n",
       "  10 │\u001b[90m missing \u001b[0m      30       50\n",
       "  11 │      11       31       51\n",
       "  12 │      12       32       52\n",
       "  13 │      13       33       53\n",
       "  14 │      14       34       54\n",
       "  15 │      15 \u001b[90m missing \u001b[0m      55\n",
       "  16 │      16       36       56\n",
       "  17 │      17       37       57\n",
       "  18 │      18       38       58\n",
       "  19 │      19       39 \u001b[90m missing \u001b[0m\n",
       "  20 │      20       40       60"
      ]
     },
     "execution_count": 80,
     "metadata": {},
     "output_type": "execute_result"
    }
   ],
   "source": [
    "# Question 12: Change indicated values to empty entries\n",
    "allowmissing!(df3);\n",
    "df3[10, :A] = missing;\n",
    "df3[15, :B] = missing;\n",
    "df3[19, :C] = missing;\n",
    "df3"
   ]
  },
  {
   "cell_type": "code",
   "execution_count": 81,
   "metadata": {},
   "outputs": [
    {
     "data": {
      "text/html": [
       "<div class=\"data-frame\"><p>20 rows × 3 columns</p><table class=\"data-frame\"><thead><tr><th></th><th>A</th><th>B</th><th>C</th></tr><tr><th></th><th title=\"Union{Missing, Int64}\">Int64?</th><th title=\"Union{Missing, Int64}\">Int64?</th><th title=\"Union{Missing, Int64}\">Int64?</th></tr></thead><tbody><tr><th>1</th><td>1</td><td>21</td><td>41</td></tr><tr><th>2</th><td>2</td><td>22</td><td>42</td></tr><tr><th>3</th><td>3</td><td>23</td><td>43</td></tr><tr><th>4</th><td>4</td><td>24</td><td>44</td></tr><tr><th>5</th><td>5</td><td>25</td><td>45</td></tr><tr><th>6</th><td>6</td><td>26</td><td>46</td></tr><tr><th>7</th><td>7</td><td>27</td><td>47</td></tr><tr><th>8</th><td>8</td><td>28</td><td>48</td></tr><tr><th>9</th><td>9</td><td>29</td><td>49</td></tr><tr><th>10</th><td>0</td><td>30</td><td>50</td></tr><tr><th>11</th><td>11</td><td>31</td><td>51</td></tr><tr><th>12</th><td>12</td><td>32</td><td>52</td></tr><tr><th>13</th><td>13</td><td>33</td><td>53</td></tr><tr><th>14</th><td>14</td><td>34</td><td>54</td></tr><tr><th>15</th><td>15</td><td>0</td><td>55</td></tr><tr><th>16</th><td>16</td><td>36</td><td>56</td></tr><tr><th>17</th><td>17</td><td>37</td><td>57</td></tr><tr><th>18</th><td>18</td><td>38</td><td>58</td></tr><tr><th>19</th><td>19</td><td>39</td><td>0</td></tr><tr><th>20</th><td>20</td><td>40</td><td>60</td></tr></tbody></table></div>"
      ],
      "text/latex": [
       "\\begin{tabular}{r|ccc}\n",
       "\t& A & B & C\\\\\n",
       "\t\\hline\n",
       "\t& Int64? & Int64? & Int64?\\\\\n",
       "\t\\hline\n",
       "\t1 & 1 & 21 & 41 \\\\\n",
       "\t2 & 2 & 22 & 42 \\\\\n",
       "\t3 & 3 & 23 & 43 \\\\\n",
       "\t4 & 4 & 24 & 44 \\\\\n",
       "\t5 & 5 & 25 & 45 \\\\\n",
       "\t6 & 6 & 26 & 46 \\\\\n",
       "\t7 & 7 & 27 & 47 \\\\\n",
       "\t8 & 8 & 28 & 48 \\\\\n",
       "\t9 & 9 & 29 & 49 \\\\\n",
       "\t10 & 0 & 30 & 50 \\\\\n",
       "\t11 & 11 & 31 & 51 \\\\\n",
       "\t12 & 12 & 32 & 52 \\\\\n",
       "\t13 & 13 & 33 & 53 \\\\\n",
       "\t14 & 14 & 34 & 54 \\\\\n",
       "\t15 & 15 & 0 & 55 \\\\\n",
       "\t16 & 16 & 36 & 56 \\\\\n",
       "\t17 & 17 & 37 & 57 \\\\\n",
       "\t18 & 18 & 38 & 58 \\\\\n",
       "\t19 & 19 & 39 & 0 \\\\\n",
       "\t20 & 20 & 40 & 60 \\\\\n",
       "\\end{tabular}\n"
      ],
      "text/plain": [
       "\u001b[1m20×3 DataFrame\u001b[0m\n",
       "\u001b[1m Row \u001b[0m│\u001b[1m A      \u001b[0m\u001b[1m B      \u001b[0m\u001b[1m C      \u001b[0m\n",
       "\u001b[1m     \u001b[0m│\u001b[90m Int64? \u001b[0m\u001b[90m Int64? \u001b[0m\u001b[90m Int64? \u001b[0m\n",
       "─────┼────────────────────────\n",
       "   1 │      1      21      41\n",
       "   2 │      2      22      42\n",
       "   3 │      3      23      43\n",
       "   4 │      4      24      44\n",
       "   5 │      5      25      45\n",
       "   6 │      6      26      46\n",
       "   7 │      7      27      47\n",
       "   8 │      8      28      48\n",
       "   9 │      9      29      49\n",
       "  10 │      0      30      50\n",
       "  11 │     11      31      51\n",
       "  12 │     12      32      52\n",
       "  13 │     13      33      53\n",
       "  14 │     14      34      54\n",
       "  15 │     15       0      55\n",
       "  16 │     16      36      56\n",
       "  17 │     17      37      57\n",
       "  18 │     18      38      58\n",
       "  19 │     19      39       0\n",
       "  20 │     20      40      60"
      ]
     },
     "execution_count": 81,
     "metadata": {},
     "output_type": "execute_result"
    }
   ],
   "source": [
    "# Question 13: Create DataFrame df4 that contains no rows with NaN (NA) values\n",
    "df4 = df3;\n",
    "for row in eachrow(df4)\n",
    "    ismissing(row[:A]) && (row[:A] = 0)\n",
    "end\n",
    "for row in eachrow(df4)\n",
    "    ismissing(row[:B]) && (row[:B] = 0)\n",
    "end\n",
    "for row in eachrow(df4)\n",
    "    ismissing(row[:C]) && (row[:C] = 0)\n",
    "end\n",
    "df4"
   ]
  }
 ],
 "metadata": {
  "kernelspec": {
   "display_name": "Julia 1.6.1",
   "language": "julia",
   "name": "julia-1.6"
  },
  "language_info": {
   "file_extension": ".jl",
   "mimetype": "application/julia",
   "name": "julia",
   "version": "1.6.1"
  }
 },
 "nbformat": 4,
 "nbformat_minor": 1
}
